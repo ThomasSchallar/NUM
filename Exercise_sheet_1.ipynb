{
 "cells": [
  {
   "cell_type": "markdown",
   "metadata": {},
   "source": [
    "---\n",
    "---\n",
    "\n",
    "<h1><center><ins>Exercise Sheet 1</ins></center></h1>\n",
    "<h2><center>Numerical Methods <br><br> Deadline: 17 October 2024</center></h2>\n",
    "\n",
    "---\n",
    "---"
   ]
  },
  {
   "cell_type": "markdown",
   "metadata": {},
   "source": [
    "## Exercise 1 - FizzBuzz\n",
    "\n",
    "Write a program that prints integer numbers from 1 to 25. For multiples of 3 print `\"Fizz\"` instead of the number, and for multiples of 5 print `\"Buzz\"`.\n",
    "\n",
    "**Careful:** for multiples of 3 and 5, you should print `\"FizzBuzz\"`!"
   ]
  },
  {
   "cell_type": "code",
   "execution_count": 1,
   "metadata": {},
   "outputs": [
    {
     "name": "stdout",
     "output_type": "stream",
     "text": [
      "1\n",
      "2\n",
      "Fizz\n",
      "4\n",
      "Buzz\n",
      "Fizz\n",
      "7\n",
      "8\n",
      "Fizz\n",
      "Buzz\n",
      "11\n",
      "Fizz\n",
      "13\n",
      "14\n",
      "FizzBuzz\n",
      "16\n",
      "17\n",
      "Fizz\n",
      "19\n",
      "Buzz\n",
      "Fizz\n",
      "22\n",
      "23\n",
      "Fizz\n",
      "Buzz\n"
     ]
    }
   ],
   "source": [
    "for number in range( 1, 26 ):\n",
    "    message= \"\"\n",
    "    \n",
    "    if number % 3 == 0:\n",
    "        message+= \"Fizz\"\n",
    "        \n",
    "    if number % 5 == 0:\n",
    "        message+= \"Buzz\"\n",
    "        \n",
    "    if len( message ) == 0:\n",
    "        print( number )\n",
    "    else:\n",
    "        print( message )"
   ]
  },
  {
   "cell_type": "markdown",
   "metadata": {},
   "source": [
    "## Exercise 2 - Leap years\n",
    "\n",
    "**(a)** Write a function that, given a year, reports if it is a [leap year](https://en.wikipedia.org/wiki/Leap_year). The tricky thing is that a leap year in the Gregorian calendar occurs:\n",
    " * on every year that is evenly divisible by 4\n",
    " * except every year that is evenly divisible by 100\n",
    " * unless the year is also evenly divisible by 400\n",
    " \n",
    "For example, 1995 is not a leap year, but 1996 is. 1900 is not a leap year, but 2000 is.\n",
    "\n",
    "**(b)** Test your function on some selected years that allow you to check if it provides the correct solution."
   ]
  },
  {
   "cell_type": "code",
   "execution_count": 80,
   "metadata": {},
   "outputs": [
    {
     "name": "stdout",
     "output_type": "stream",
     "text": [
      "1995 normales Jahr normales Jahr\n",
      "1996 Schaltjahr    Schaltjahr   \n",
      "1900 normales Jahr normales Jahr\n",
      "2000 Schaltjahr    Schaltjahr   \n"
     ]
    }
   ],
   "source": [
    "def isLeapYear1( year ):\n",
    "    status= False\n",
    "    if year % 4 == 0:\n",
    "        status= True\n",
    "        if year % 100 == 0:\n",
    "            status= False\n",
    "            if year % 400 == 0:\n",
    "                status= True\n",
    "    return status\n",
    "\n",
    "def isLeapYear2( year ):\n",
    "    if year % 400 == 0:\n",
    "        return True\n",
    "    if year % 100 == 0:\n",
    "        return False\n",
    "    if year % 4 == 0:\n",
    "        return True\n",
    "    return False\n",
    "\n",
    "def tellMe( leapyear ):\n",
    "    return \"Schaltjahr   \" if leapyear else \"normales Jahr\"\n",
    "\n",
    "\n",
    "testYears= [ 1995, 1996, 1900, 2000 ]\n",
    "for testYear in testYears:\n",
    "    print( testYear, tellMe( isLeapYear( testYear ) ), tellMe( isLeapYear2( testYear ) ) )\n"
   ]
  },
  {
   "cell_type": "markdown",
   "metadata": {},
   "source": [
    "## Exercise 3 - Rigged dice\n",
    "\n",
    "**(a)** Create a rigged dice function that 25% of the time returns the number 6. The rest of the time it returns the integers 1,2,3,4,5 uniformly.\n",
    "\n",
    "**(b)** Test your function, by calling it 100k times and checking that 6 is returned in the range of 24700-25300 (inclusive) times. You do not need to check that numbers 1 to 5 are returned uniformly or randomly, but you need to check that your function returns integers in the range 1-6 (inclusive). Such a test works roughly 98% of the time, so you might want to run it twice if you are confident your solution is correct."
   ]
  },
  {
   "cell_type": "code",
   "execution_count": 3,
   "metadata": {},
   "outputs": [
    {
     "name": "stdout",
     "output_type": "stream",
     "text": [
      "100000 samples:\n",
      "1: 15.00% 15000\n",
      "2: 15.07% 15066\n",
      "3: 14.83% 14830\n",
      "4: 15.00% 15001\n",
      "5: 14.96% 14963\n",
      "6: 25.14% 25140\n"
     ]
    }
   ],
   "source": [
    "import random\n",
    "\n",
    "samples= 100000\n",
    "\n",
    "def riggedDice():\n",
    "    if random.random() < 0.25:\n",
    "        return 6\n",
    "    else:\n",
    "        return random.randint( 1, 5 )\n",
    "\n",
    "count= [None,0,0,0,0,0,0]\n",
    "for n in range( samples ):\n",
    "    count[ riggedDice() ]+= 1\n",
    "\n",
    "print( samples, \"samples:\" )\n",
    "for n in range( 1, 7 ):\n",
    "    print( \"%1d: %5.2f%% %d\" % ( n, (count[n]/samples)*100, count[n] ) )"
   ]
  },
  {
   "cell_type": "markdown",
   "metadata": {},
   "source": [
    "## Exercise 4 - Find the fake coin\n",
    "\n",
    "Consider this famous puzzle: _\"You have 8 coins: all the coins have equal weight, except one. The odd one weights less than the others, not being of pure gold. In the worst case, how many iterations do you need to find the odd one out on a two plates scale?\"_\n",
    "\n",
    "Write a function that returns the minimum amount of weighing it will take to measure `N` coins in every possible occurrence (including worst case scenario, i.e.: without relying on luck at all!). The number `N` is guaranteed to be a positive integer.\n",
    "\n",
    "**Tip:** being able to think recursively might help here!\n",
    "\n",
    "**Note:** this is clearly a logical problem, because a good coder is a master of pattern recognition and subsequent optimization! ;)"
   ]
  },
  {
   "cell_type": "code",
   "execution_count": 75,
   "metadata": {},
   "outputs": [
    {
     "name": "stdout",
     "output_type": "stream",
     "text": [
      "GGGGGFGG\n",
      "GGGG GFGG _\n",
      "\n",
      "GFGG\n",
      "GF GG _\n",
      "\n",
      "GF\n",
      "G F _\n",
      "\n",
      "found F 3\n"
     ]
    }
   ],
   "source": [
    "'''\n",
    "\n",
    "Algorithm:\n",
    " 1. split coins into two equal stacks\n",
    " 2. weigh them\n",
    " 3. remove the stack with higher weight. it does not contain the fake coin\n",
    " 4. start again at #1, unless just one coin is left: this is the fake one\n",
    "\n",
    "that means, weighings = ld(N)\n",
    "in case of N = 8 coins one needs to weigh 3 times\n",
    "\n",
    "that works fine, as long as N = 2ⁿ\n",
    "\n",
    "improved Algorithm for any count N:\n",
    " 1. split coins into two equal stacks. if odd number keep remaining coin\n",
    " 2. weigh the stacks\n",
    " 3. if equal weight: remove both stacks. the kept coin is the fake one\n",
    "    if different weigh: remove the stack with higher weight. it does not contain the fake coin. remove kept coin also\n",
    " 4. start again at #1, unless just one coin is left: this is the fake one\n",
    " \n",
    "'''\n",
    "\n",
    "# G ... gold\n",
    "# F ... fake, weighs less (and comes first 'F'<'G')\n",
    "\n",
    "coins= \"GGGGGFGG\"\n",
    "\n",
    "weighings= 0\n",
    "\n",
    "while len( coins ) > 1:\n",
    "    print( coins )\n",
    "    n= len( coins )\n",
    "    nHalbe= int( n / 2 )\n",
    "    \n",
    "    coinsA= coins[ 0 : nHalbe ]\n",
    "    coinsB= coins[ nHalbe : 2*nHalbe ]\n",
    "    keptCoin= \"_\"\n",
    "    if 2*nHalbe != n:\n",
    "        keptCoin= coins[ 2*nHalbe : 2*nHalbe+1 ]\n",
    "        \n",
    "    print( coinsA, coinsB, keptCoin )\n",
    "    print()\n",
    "\n",
    "    weighings+= 1\n",
    "    if coinsA == coinsB:\n",
    "        coins= keptCoin\n",
    "    elif coinsA < coinsB:\n",
    "        coins= coinsA\n",
    "    else:\n",
    "        coins= coinsB\n",
    "\n",
    "print( \"found\", coins, weighings )"
   ]
  },
  {
   "cell_type": "markdown",
   "metadata": {},
   "source": [
    "## [Optional Exercise] - Syntax debug and a challenge\n",
    "\n",
    "While programming a video game, your friend Elliot decided to create a function to check if the user is still alive, called `check_alive`. Unfortunately, Elliot made some errors while creating the function. The function `check_alive` should return a _boolean_, which has true value if the player's health is greater than 0 and false value if it is 0 or below. The function receives one parameter, `health`, which will always be a whole number between `-10` and `10`.\n",
    "\n",
    "**(a)** Fix the function by correcting Elliot's mistakes.\n",
    "\n",
    "**(b)** Write a test to make sure that after your changes the function indeed does what it should. \n",
    "\n",
    "_CAREFUL: you cannot use the same condition in the function and in the test! You need to define another condition to check whether your function works as it should!_\n",
    "\n",
    "**(c)** When you are satisfied with your solution, take another look at your function: can you simplify it further by making it shorter?"
   ]
  },
  {
   "cell_type": "code",
   "execution_count": null,
   "metadata": {},
   "outputs": [],
   "source": [
    "# Elliot's implementation\n",
    "\n",
    "def check_alive(health):\n",
    "    if():\n",
    "        health < 0\n",
    "        return false\n",
    "    else\n",
    "        return true"
   ]
  },
  {
   "cell_type": "code",
   "execution_count": 60,
   "metadata": {},
   "outputs": [
    {
     "name": "stdout",
     "output_type": "stream",
     "text": [
      "-10 False False\n",
      "-9 False False\n",
      "-8 False False\n",
      "-7 False False\n",
      "-6 False False\n",
      "-5 False False\n",
      "-4 False False\n",
      "-3 False False\n",
      "-2 False False\n",
      "-1 False False\n",
      "0 False False\n",
      "1 True True\n",
      "2 True True\n",
      "3 True True\n",
      "4 True True\n",
      "5 True True\n",
      "6 True True\n",
      "7 True True\n",
      "8 True True\n",
      "9 True True\n",
      "10 True True\n"
     ]
    }
   ],
   "source": [
    "def check_alive( health ):\n",
    "    if health <= 0:\n",
    "        return False\n",
    "    else:\n",
    "        return True\n",
    "\n",
    "def check_alive_shorter( health ):\n",
    "    return health > 0\n",
    "#   return not health <= 0\n",
    "\n",
    "for health in range( -10, 11 ):\n",
    "    print( health, check_alive( health ), check_alive_shorter( health ) )\n"
   ]
  }
 ],
 "metadata": {
  "kernelspec": {
   "display_name": "Python 3 (ipykernel)",
   "language": "python",
   "name": "python3"
  },
  "language_info": {
   "codemirror_mode": {
    "name": "ipython",
    "version": 3
   },
   "file_extension": ".py",
   "mimetype": "text/x-python",
   "name": "python",
   "nbconvert_exporter": "python",
   "pygments_lexer": "ipython3",
   "version": "3.14.0"
  }
 },
 "nbformat": 4,
 "nbformat_minor": 4
}
