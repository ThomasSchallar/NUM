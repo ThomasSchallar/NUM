{
  "metadata": {
    "kernelspec": {
      "name": "python",
      "display_name": "Python (Pyodide)",
      "language": "python"
    },
    "language_info": {
      "codemirror_mode": {
        "name": "python",
        "version": 3
      },
      "file_extension": ".py",
      "mimetype": "text/x-python",
      "name": "python",
      "nbconvert_exporter": "python",
      "pygments_lexer": "ipython3",
      "version": "3.8"
    }
  },
  "nbformat_minor": 4,
  "nbformat": 4,
  "cells": [
    {
      "cell_type": "markdown",
      "source": "---\n---\n\n<h1><center><ins>Exercise Sheet 3</ins></center></h1>\n<h2><center>Numerical Methods <br><br>\n\n---\n---",
      "metadata": {}
    },
    {
      "cell_type": "code",
      "source": "import numpy as np\nimport matplotlib.pyplot as plt\nfrom numpy import exp",
      "metadata": {},
      "outputs": [],
      "execution_count": null
    },
    {
      "cell_type": "markdown",
      "source": "## Exercise 1 - Root finding algorithms\n\n**(A)** Implement the *bisection*, *secant*, *false position* and *Newton-Raphson* root finding methods, by coding your own version of these algorithms. Make sure to test your codes, checking that indeed they are able to find the root of a function (to do this, you can for example pick an analytic function that allows you test the codes and for which you can compute the roots analytically).\n\n**(B)** Use your implementation of the 4 root finding methods (from part **A**) to compute the root of the function:\n\n$$f(x) = e^x - 1 - x - \\frac{x^2}{2}$$\n\nin the interval $x\\in[-1,2]$. For each method, print out the position of the root and the number of iterations needed to reach it.\n\n**(C)** Discuss your results, commenting how the methods compare to one another. Which one is the fastest/slowest? Why? What is the impact of the points you selected to start your iterations?",
      "metadata": {}
    },
    {
      "cell_type": "code",
      "source": "",
      "metadata": {},
      "outputs": [],
      "execution_count": null
    },
    {
      "cell_type": "markdown",
      "source": "## Exercise 2 - Sets of linear equations\n\nDetermine the solution to the following set of linear equations:\n\n$$ \n\\begin{cases}\n5 x_1 + 3 x_2 &= 15 \\\\\nx_1 - 4 x_2 &= -2 \\ ,\n\\end{cases}\n$$\n\nwhere $x_1$ and $x_2$ are the variables of interest.\n\n**(A)** Formulate the problem by using the matrix representation, as we saw in class, clearly defining the coefficient matrix and the vector of right-hand-side values.\n\n**(B)** Using the appropriate built-in python functions, carry out the LU decomposition of the coefficient matrix, and print out the L and U matrices separately. Solve the set of equations and check that the solution is indeed valid.\n\n**(C)** What is the solution to the following set of equations? \n\n$$ \n\\begin{cases}\nx_1 - 4 x_2 &= 3 \\\\\n5 x_1 + 3 x_2 &= -7\n\\end{cases}\n$$\n\nPrint out the solution, and motivate the steps you took to solve it.",
      "metadata": {}
    },
    {
      "cell_type": "code",
      "source": "",
      "metadata": {},
      "outputs": [],
      "execution_count": null
    },
    {
      "cell_type": "markdown",
      "source": "## Exercise 3 - Velocity dispersion estimation\n\nThe file ``omega_Cen_Sollima2009.txt`` contains a collection of measurements of line-of-sight velocities of stars in the Galactic globular cluster $\\omega$ Cen (NGC 5139). The first column in the file contains the values of the velocities (in km/s), and the second column the values of the associated measurement errors (also in km/s). These data are taken from [Sollima et al. (2009)](https://ui.adsabs.harvard.edu/abs/2009MNRAS.396.2183S/abstract).\n\nWe want to determine the mean velocity $\\bar{v}$ and velocity dispersion $\\sigma$ of these stars, and we do this by using a maximum likelihood estimator, following the procedure described by [Pryor and Meylan (1993)](https://ui.adsabs.harvard.edu/abs/1993ASPC...50..357P/abstract).\n\nWe start by assuming that each velocity measurement $v_i$ ($i = 1,2,...,N$), with associated error $\\delta_{{\\rm v},i}$, is drawn from the normal distribution:\n\n$$ f(v_i) = \\frac{1}{\\sqrt{2 \\pi (\\sigma^2 + \\delta_{{\\rm v},i}^2)}} \\exp\\left[ - \\frac{(v_i - \\bar{v})^2}{2(\\sigma^2 + \\delta_{{\\rm v},i}^2)} \\right] $$ \n\nStandard techniques for forming the likelihood of a set of $N$ velocities and finding its maximum lead to the following two equations:\n\n$$\\sum_{i = 1}^{N}  \\frac{v_i}{(\\sigma^2 + \\delta_{{\\rm v},i}^2)} - \\bar{v} \\sum_{i = 1}^{N}  \\frac{1}{(\\sigma^2 + \\delta_{{\\rm v},i}^2)} = 0$$\n\n$$\\sum_{i = 1}^{N}  \\frac{(v_i - \\bar{v})^2}{(\\sigma^2 + \\delta_{{\\rm v},i}^2)^2} - \\sum_{i = 1}^{N}  \\frac{1}{(\\sigma^2 + \\delta_{{\\rm v},i}^2)} = 0$$\n\nThese equations must be solved numerically to obtain $\\bar{v}$ and $\\sigma$.\n\n**(A)** Discuss what type of problem this is, and list the possible ways (those we have seen in class, of course!) to solve it numerically with built-in python functions.\n\n**(B)** Solve the equations above to obtain the values of the mean velocity $\\bar{v}$ and velocity dispersion $\\sigma$. To do this, use **all** the python built-in functions we discussed in class, and compare the results you obtain. Print out the solutions you get, and verify that they are indeed solutions of the above equations.\n\n**(C)** Explore the input and output of the python built-in functions. Pay particular attention to the values you provide as initial guesses to compute the solution: which values break the algorithm? Which algorithm appears to be more stable?",
      "metadata": {}
    },
    {
      "cell_type": "code",
      "source": "",
      "metadata": {},
      "outputs": [],
      "execution_count": null
    }
  ]
}